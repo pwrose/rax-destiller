{
 "cells": [
  {
   "cell_type": "markdown",
   "id": "9f2ad46e",
   "metadata": {},
   "source": [
    "# SDSC LLM API Example\n"
   ]
  },
  {
   "cell_type": "code",
   "execution_count": 1,
   "id": "5592dc0f",
   "metadata": {},
   "outputs": [],
   "source": [
    "import os\n",
    "from dotenv import load_dotenv\n",
    "from openai import OpenAI"
   ]
  },
  {
   "cell_type": "code",
   "execution_count": 2,
   "id": "9061f039-0e6c-4cd0-acda-020675bbd16c",
   "metadata": {},
   "outputs": [
    {
     "data": {
      "text/plain": [
       "True"
      ]
     },
     "execution_count": 2,
     "metadata": {},
     "output_type": "execute_result"
    }
   ],
   "source": [
    "# Load environment variables\n",
    "ENV_PATH = \"../.env\"\n",
    "load_dotenv(ENV_PATH, override=True)"
   ]
  },
  {
   "cell_type": "code",
   "execution_count": 3,
   "id": "e4cdd881-7247-445f-8929-6b51999fe462",
   "metadata": {},
   "outputs": [
    {
     "name": "stdout",
     "output_type": "stream",
     "text": [
      "https://sdsc-llama3-api.nrp-nautilus.io/v1\n",
      "meta-llama/Meta-Llama-3.1-70B-Instruct\n"
     ]
    }
   ],
   "source": [
    "API_KEY = os.environ.get(\"SDSC_LLM_API_KEY\")\n",
    "BASE_URL = os.environ.get(\"SDSC_LLM_BASE_URL\")\n",
    "MODEL = os.environ.get(\"SDSC_LLM_MODEL\")\n",
    "print(BASE_URL)\n",
    "print(MODEL)"
   ]
  },
  {
   "cell_type": "code",
   "execution_count": 4,
   "id": "94e19ed1-8a97-4ccf-bc68-4ae69234f37a",
   "metadata": {},
   "outputs": [],
   "source": [
    "def models_endpoint_example():\n",
    "    client_args = dict(base_url=BASE_URL,api_key=API_KEY)\n",
    "    openai_client = OpenAI(**client_args)\n",
    "\n",
    "    models = openai_client.models.list()\n",
    "\n",
    "    print(models)"
   ]
  },
  {
   "cell_type": "code",
   "execution_count": 5,
   "id": "190e8915-dff6-4d55-bbbe-7dfeb828eeaf",
   "metadata": {},
   "outputs": [
    {
     "name": "stdout",
     "output_type": "stream",
     "text": [
      "SyncPage[Model](data=[Model(id='meta-llama/Meta-Llama-3.1-70B-Instruct', created=1722206088, object='model', owned_by='vllm', root='meta-llama/Meta-Llama-3.1-70B-Instruct', parent=None, max_model_len=131072, permission=[{'id': 'modelperm-0a2a3cd00bf34ced8d8592c78d4d95fd', 'object': 'model_permission', 'created': 1722206088, 'allow_create_engine': False, 'allow_sampling': True, 'allow_logprobs': True, 'allow_search_indices': False, 'allow_view': True, 'allow_fine_tuning': False, 'organization': '*', 'group': None, 'is_blocking': False}])], object='list')\n"
     ]
    }
   ],
   "source": [
    "models_endpoint_example()"
   ]
  },
  {
   "cell_type": "code",
   "execution_count": 6,
   "id": "b81712f2-dcb3-4a24-a7d7-71e00cb3b9a2",
   "metadata": {},
   "outputs": [],
   "source": [
    "def completion_endpoint_example(): \n",
    "    client_args = dict(base_url=BASE_URL, api_key=API_KEY)\n",
    "    openai_client = OpenAI(**client_args)\n",
    "    \n",
    "    completion = openai_client.chat.completions.create(\n",
    "        model=MODEL,\n",
    "        messages=[\n",
    "            {\"role\": \"system\", \"content\": \"You are a helpful assistant.\"},\n",
    "            {\"role\": \"user\", \"content\": \"Hello!\"}\n",
    "        ]\n",
    "    )\n",
    "\n",
    "    response = completion.choices[0].message.content\n",
    "\n",
    "    print(response)"
   ]
  },
  {
   "cell_type": "code",
   "execution_count": 7,
   "id": "54825f7b-dd56-494e-909c-2f48f27d8f04",
   "metadata": {},
   "outputs": [
    {
     "name": "stdout",
     "output_type": "stream",
     "text": [
      "Hello! It's nice to meet you. Is there something I can help you with or would you like to chat?\n"
     ]
    }
   ],
   "source": [
    "completion_endpoint_example()"
   ]
  },
  {
   "cell_type": "code",
   "execution_count": 8,
   "id": "cb87d809-9eae-479d-a5b2-91503857cf50",
   "metadata": {},
   "outputs": [],
   "source": [
    "def chat_example():\n",
    "    api_key = API_KEY\n",
    "    \n",
    "    client_args = dict(base_url=BASE_URL, api_key=API_KEY)\n",
    "    openai_client = OpenAI(**client_args)\n",
    "    \n",
    "    messages = [{'role': 'user', 'content': 'Who are you?'}]\n",
    "    stream = False\n",
    "    client_kwargs = dict(model=MODEL, max_tokens=200, stream=stream, messages=messages)\n",
    "    client = openai_client.chat.completions\n",
    "    \n",
    "    responses = client.create(**client_kwargs)\n",
    "    text = responses.choices[0].message.content\n",
    "    \n",
    "    print(text)\n"
   ]
  },
  {
   "cell_type": "code",
   "execution_count": null,
   "id": "4409545c-981c-483c-b26b-99de59bd63f2",
   "metadata": {},
   "outputs": [],
   "source": []
  }
 ],
 "metadata": {
  "kernelspec": {
   "display_name": "Python 3 (ipykernel)",
   "language": "python",
   "name": "python3"
  },
  "language_info": {
   "codemirror_mode": {
    "name": "ipython",
    "version": 3
   },
   "file_extension": ".py",
   "mimetype": "text/x-python",
   "name": "python",
   "nbconvert_exporter": "python",
   "pygments_lexer": "ipython3",
   "version": "3.10.14"
  }
 },
 "nbformat": 4,
 "nbformat_minor": 5
}
